{
 "cells": [
  {
   "cell_type": "markdown",
   "metadata": {},
   "source": [
    "## Plotting Attendance\n",
    "\n",
    "### 0. Getting Started\n",
    "\n",
    "Start by forking this repo and cloning your fork to your computer.\n",
    "\n",
    "### 1. Business Understanding\n",
    "\n",
    "You want to understand when your cohort typically arrives on campus.\n",
    "\n",
    "### 2. Data Understanding\n",
    "\n",
    "Each of you has access to an attendance spreadsheet that now contains five days of arrival times for you and your colleagues.\n",
    "\n",
    "### 3. Data Preparation\n",
    "\n",
    "#### 3(a) Load the data\n",
    "\n",
    "* Create a Jupyter Notebook.\n",
    "\n",
    "* Load the arrival time data into Pandas from `data.csv`. \n",
    "\n",
    "* Decide how to deal with any missing values in the data.\n",
    "\n",
    "#### 3(b) Visualize the data\n",
    "\n",
    "* Create some visualizations of the attendance data. Note that it can be grouped by day or aggregated together.\n",
    "\n",
    "* At least one of your visualizations _must_ be a histogram."
   ]
  },
  {
   "cell_type": "code",
   "execution_count": 1,
   "metadata": {
    "scrolled": true
   },
   "outputs": [
    {
     "data": {
      "text/html": [
       "<div>\n",
       "<style scoped>\n",
       "    .dataframe tbody tr th:only-of-type {\n",
       "        vertical-align: middle;\n",
       "    }\n",
       "\n",
       "    .dataframe tbody tr th {\n",
       "        vertical-align: top;\n",
       "    }\n",
       "\n",
       "    .dataframe thead th {\n",
       "        text-align: right;\n",
       "    }\n",
       "</style>\n",
       "<table border=\"1\" class=\"dataframe\">\n",
       "  <thead>\n",
       "    <tr style=\"text-align: right;\">\n",
       "      <th></th>\n",
       "      <th>2019-04-01</th>\n",
       "      <th>2019-04-02</th>\n",
       "      <th>2019-04-03</th>\n",
       "      <th>2019-04-04</th>\n",
       "      <th>2019-04-05</th>\n",
       "      <th>2019-04-08</th>\n",
       "    </tr>\n",
       "  </thead>\n",
       "  <tbody>\n",
       "    <tr>\n",
       "      <th>0</th>\n",
       "      <td>8:56 AM</td>\n",
       "      <td>9:00 AM</td>\n",
       "      <td>7:45 AM</td>\n",
       "      <td>7:45 AM</td>\n",
       "      <td>8:05 AM</td>\n",
       "      <td>7:45 AM</td>\n",
       "    </tr>\n",
       "    <tr>\n",
       "      <th>1</th>\n",
       "      <td>8:40 AM</td>\n",
       "      <td>8:40 AM</td>\n",
       "      <td>8:30 AM</td>\n",
       "      <td>8:30 AM</td>\n",
       "      <td>8:45 AM</td>\n",
       "      <td>8:20 AM</td>\n",
       "    </tr>\n",
       "    <tr>\n",
       "      <th>2</th>\n",
       "      <td>8:45 AM</td>\n",
       "      <td>8:20 AM</td>\n",
       "      <td>8:05 AM</td>\n",
       "      <td>8:00 AM</td>\n",
       "      <td>8:05 AM</td>\n",
       "      <td>8:00 AM</td>\n",
       "    </tr>\n",
       "    <tr>\n",
       "      <th>3</th>\n",
       "      <td>8:40 AM</td>\n",
       "      <td>8:40 AM</td>\n",
       "      <td>8:40 AM</td>\n",
       "      <td>8:25 AM</td>\n",
       "      <td>8:40 AM</td>\n",
       "      <td>8:40 AM</td>\n",
       "    </tr>\n",
       "    <tr>\n",
       "      <th>4</th>\n",
       "      <td>8:55 AM</td>\n",
       "      <td>8:50 AM</td>\n",
       "      <td>8:55 AM</td>\n",
       "      <td>8:10 AM</td>\n",
       "      <td>8:15 AM</td>\n",
       "      <td>8:05 AM</td>\n",
       "    </tr>\n",
       "  </tbody>\n",
       "</table>\n",
       "</div>"
      ],
      "text/plain": [
       "  2019-04-01 2019-04-02 2019-04-03 2019-04-04 2019-04-05 2019-04-08\n",
       "0    8:56 AM    9:00 AM    7:45 AM    7:45 AM    8:05 AM    7:45 AM\n",
       "1    8:40 AM    8:40 AM    8:30 AM    8:30 AM    8:45 AM    8:20 AM\n",
       "2    8:45 AM    8:20 AM    8:05 AM    8:00 AM    8:05 AM    8:00 AM\n",
       "3    8:40 AM    8:40 AM    8:40 AM    8:25 AM    8:40 AM    8:40 AM\n",
       "4    8:55 AM    8:50 AM    8:55 AM    8:10 AM    8:15 AM    8:05 AM"
      ]
     },
     "execution_count": 1,
     "metadata": {},
     "output_type": "execute_result"
    }
   ],
   "source": [
    "# import necessary package\n",
    "import pandas as pd\n",
    "import matplotlib.pyplot as plt\n",
    "%matplotlib inline\n",
    "\n",
    "# import necessary data \n",
    "attendance_data = pd.read_csv(\"data.csv\", header=None, na_values=\"absent\")\n",
    "\n",
    "# give proper column names\n",
    "attendance_data.columns = [\"2019-04-01\", \"2019-04-02\", \"2019-04-03\",\n",
    "                           \"2019-04-04\", \"2019-04-05\", \"2019-04-08\"]\n",
    "attendance_data.head()"
   ]
  },
  {
   "cell_type": "markdown",
   "metadata": {},
   "source": [
    "# Reshape `attendance_data`\n",
    "\n",
    "The goal is to visualize historical attendance times. It is not useful to have the time data spread out in multiple columns. Instead, reshaping the data frame from wide to long will give one two columns: one for the day and one for the time."
   ]
  },
  {
   "cell_type": "code",
   "execution_count": 2,
   "metadata": {},
   "outputs": [
    {
     "data": {
      "text/html": [
       "<div>\n",
       "<style scoped>\n",
       "    .dataframe tbody tr th:only-of-type {\n",
       "        vertical-align: middle;\n",
       "    }\n",
       "\n",
       "    .dataframe tbody tr th {\n",
       "        vertical-align: top;\n",
       "    }\n",
       "\n",
       "    .dataframe thead th {\n",
       "        text-align: right;\n",
       "    }\n",
       "</style>\n",
       "<table border=\"1\" class=\"dataframe\">\n",
       "  <thead>\n",
       "    <tr style=\"text-align: right;\">\n",
       "      <th></th>\n",
       "      <th>date</th>\n",
       "      <th>time</th>\n",
       "    </tr>\n",
       "  </thead>\n",
       "  <tbody>\n",
       "    <tr>\n",
       "      <th>0</th>\n",
       "      <td>2019-04-01</td>\n",
       "      <td>8:56 AM</td>\n",
       "    </tr>\n",
       "    <tr>\n",
       "      <th>1</th>\n",
       "      <td>2019-04-01</td>\n",
       "      <td>8:40 AM</td>\n",
       "    </tr>\n",
       "    <tr>\n",
       "      <th>2</th>\n",
       "      <td>2019-04-01</td>\n",
       "      <td>8:45 AM</td>\n",
       "    </tr>\n",
       "    <tr>\n",
       "      <th>3</th>\n",
       "      <td>2019-04-01</td>\n",
       "      <td>8:40 AM</td>\n",
       "    </tr>\n",
       "    <tr>\n",
       "      <th>4</th>\n",
       "      <td>2019-04-01</td>\n",
       "      <td>8:55 AM</td>\n",
       "    </tr>\n",
       "  </tbody>\n",
       "</table>\n",
       "</div>"
      ],
      "text/plain": [
       "         date     time\n",
       "0  2019-04-01  8:56 AM\n",
       "1  2019-04-01  8:40 AM\n",
       "2  2019-04-01  8:45 AM\n",
       "3  2019-04-01  8:40 AM\n",
       "4  2019-04-01  8:55 AM"
      ]
     },
     "execution_count": 2,
     "metadata": {},
     "output_type": "execute_result"
    }
   ],
   "source": [
    "# reshape from wide to long\n",
    "attendance_data = pd.melt(attendance_data)\n",
    "\n",
    "# rename columns\n",
    "attendance_data.columns = [\"date\", \"time\"]\n",
    "\n",
    "# view results\n",
    "attendance_data.head()"
   ]
  },
  {
   "cell_type": "code",
   "execution_count": 3,
   "metadata": {},
   "outputs": [
    {
     "name": "stdout",
     "output_type": "stream",
     "text": [
      "<class 'pandas.core.frame.DataFrame'>\n",
      "RangeIndex: 138 entries, 0 to 137\n",
      "Data columns (total 2 columns):\n",
      "date    138 non-null object\n",
      "time    137 non-null object\n",
      "dtypes: object(2)\n",
      "memory usage: 2.2+ KB\n"
     ]
    }
   ],
   "source": [
    "attendance_data.info()"
   ]
  },
  {
   "cell_type": "markdown",
   "metadata": {},
   "source": [
    "Remove the NaN record from the data frame"
   ]
  },
  {
   "cell_type": "code",
   "execution_count": 4,
   "metadata": {},
   "outputs": [
    {
     "name": "stdout",
     "output_type": "stream",
     "text": [
      "<class 'pandas.core.frame.DataFrame'>\n",
      "Int64Index: 137 entries, 0 to 137\n",
      "Data columns (total 2 columns):\n",
      "date    137 non-null object\n",
      "time    137 non-null object\n",
      "dtypes: object(2)\n",
      "memory usage: 3.2+ KB\n"
     ]
    }
   ],
   "source": [
    "attendance_data = attendance_data.dropna()\n",
    "attendance_data.info()"
   ]
  },
  {
   "cell_type": "markdown",
   "metadata": {},
   "source": [
    "Let's convert `date` to a date object"
   ]
  },
  {
   "cell_type": "code",
   "execution_count": 5,
   "metadata": {
    "scrolled": true
   },
   "outputs": [
    {
     "name": "stdout",
     "output_type": "stream",
     "text": [
      "<class 'pandas.core.frame.DataFrame'>\n",
      "Int64Index: 137 entries, 0 to 137\n",
      "Data columns (total 2 columns):\n",
      "date    137 non-null datetime64[ns]\n",
      "time    137 non-null object\n",
      "dtypes: datetime64[ns](1), object(1)\n",
      "memory usage: 3.2+ KB\n"
     ]
    }
   ],
   "source": [
    "attendance_data[\"date\"] = pd.to_datetime(attendance_data[\"date\"], format=\"%Y-%m-%d\")\n",
    "attendance_data.info()"
   ]
  },
  {
   "cell_type": "markdown",
   "metadata": {},
   "source": [
    "Let's convert `time` to a date time object"
   ]
  },
  {
   "cell_type": "code",
   "execution_count": 6,
   "metadata": {},
   "outputs": [
    {
     "name": "stdout",
     "output_type": "stream",
     "text": [
      "<class 'pandas.core.frame.DataFrame'>\n",
      "Int64Index: 137 entries, 0 to 137\n",
      "Data columns (total 2 columns):\n",
      "date    137 non-null datetime64[ns]\n",
      "time    137 non-null datetime64[ns]\n",
      "dtypes: datetime64[ns](2)\n",
      "memory usage: 3.2 KB\n"
     ]
    }
   ],
   "source": [
    "attendance_data[\"time\"] = pd.to_datetime(attendance_data[\"time\"], format=\"%H:%M %p\")\n",
    "attendance_data.info()"
   ]
  },
  {
   "cell_type": "code",
   "execution_count": 7,
   "metadata": {},
   "outputs": [
    {
     "data": {
      "text/html": [
       "<div>\n",
       "<style scoped>\n",
       "    .dataframe tbody tr th:only-of-type {\n",
       "        vertical-align: middle;\n",
       "    }\n",
       "\n",
       "    .dataframe tbody tr th {\n",
       "        vertical-align: top;\n",
       "    }\n",
       "\n",
       "    .dataframe thead th {\n",
       "        text-align: right;\n",
       "    }\n",
       "</style>\n",
       "<table border=\"1\" class=\"dataframe\">\n",
       "  <thead>\n",
       "    <tr style=\"text-align: right;\">\n",
       "      <th></th>\n",
       "      <th>date</th>\n",
       "      <th>time</th>\n",
       "    </tr>\n",
       "  </thead>\n",
       "  <tbody>\n",
       "    <tr>\n",
       "      <th>0</th>\n",
       "      <td>2019-04-01</td>\n",
       "      <td>1900-01-01 08:56:00</td>\n",
       "    </tr>\n",
       "    <tr>\n",
       "      <th>1</th>\n",
       "      <td>2019-04-01</td>\n",
       "      <td>1900-01-01 08:40:00</td>\n",
       "    </tr>\n",
       "    <tr>\n",
       "      <th>2</th>\n",
       "      <td>2019-04-01</td>\n",
       "      <td>1900-01-01 08:45:00</td>\n",
       "    </tr>\n",
       "    <tr>\n",
       "      <th>3</th>\n",
       "      <td>2019-04-01</td>\n",
       "      <td>1900-01-01 08:40:00</td>\n",
       "    </tr>\n",
       "    <tr>\n",
       "      <th>4</th>\n",
       "      <td>2019-04-01</td>\n",
       "      <td>1900-01-01 08:55:00</td>\n",
       "    </tr>\n",
       "  </tbody>\n",
       "</table>\n",
       "</div>"
      ],
      "text/plain": [
       "        date                time\n",
       "0 2019-04-01 1900-01-01 08:56:00\n",
       "1 2019-04-01 1900-01-01 08:40:00\n",
       "2 2019-04-01 1900-01-01 08:45:00\n",
       "3 2019-04-01 1900-01-01 08:40:00\n",
       "4 2019-04-01 1900-01-01 08:55:00"
      ]
     },
     "execution_count": 7,
     "metadata": {},
     "output_type": "execute_result"
    }
   ],
   "source": [
    "attendance_data.head()"
   ]
  },
  {
   "cell_type": "markdown",
   "metadata": {},
   "source": [
    "For visualization purposes, let's create a new columns:\n",
    "\n",
    "- `hour`: the hour\n",
    "- `minute`\" the minute\n",
    "- `total_time`: the time"
   ]
  },
  {
   "cell_type": "code",
   "execution_count": 9,
   "metadata": {},
   "outputs": [
    {
     "data": {
      "text/html": [
       "<div>\n",
       "<style scoped>\n",
       "    .dataframe tbody tr th:only-of-type {\n",
       "        vertical-align: middle;\n",
       "    }\n",
       "\n",
       "    .dataframe tbody tr th {\n",
       "        vertical-align: top;\n",
       "    }\n",
       "\n",
       "    .dataframe thead th {\n",
       "        text-align: right;\n",
       "    }\n",
       "</style>\n",
       "<table border=\"1\" class=\"dataframe\">\n",
       "  <thead>\n",
       "    <tr style=\"text-align: right;\">\n",
       "      <th></th>\n",
       "      <th>date</th>\n",
       "      <th>time</th>\n",
       "      <th>hour</th>\n",
       "      <th>minute</th>\n",
       "      <th>minute_hour</th>\n",
       "      <th>total_time</th>\n",
       "    </tr>\n",
       "  </thead>\n",
       "  <tbody>\n",
       "    <tr>\n",
       "      <th>0</th>\n",
       "      <td>2019-04-01</td>\n",
       "      <td>1900-01-01 08:56:00</td>\n",
       "      <td>8</td>\n",
       "      <td>56</td>\n",
       "      <td>0.933333</td>\n",
       "      <td>8.933333</td>\n",
       "    </tr>\n",
       "    <tr>\n",
       "      <th>1</th>\n",
       "      <td>2019-04-01</td>\n",
       "      <td>1900-01-01 08:40:00</td>\n",
       "      <td>8</td>\n",
       "      <td>40</td>\n",
       "      <td>0.666667</td>\n",
       "      <td>8.666667</td>\n",
       "    </tr>\n",
       "    <tr>\n",
       "      <th>2</th>\n",
       "      <td>2019-04-01</td>\n",
       "      <td>1900-01-01 08:45:00</td>\n",
       "      <td>8</td>\n",
       "      <td>45</td>\n",
       "      <td>0.750000</td>\n",
       "      <td>8.750000</td>\n",
       "    </tr>\n",
       "    <tr>\n",
       "      <th>3</th>\n",
       "      <td>2019-04-01</td>\n",
       "      <td>1900-01-01 08:40:00</td>\n",
       "      <td>8</td>\n",
       "      <td>40</td>\n",
       "      <td>0.666667</td>\n",
       "      <td>8.666667</td>\n",
       "    </tr>\n",
       "    <tr>\n",
       "      <th>4</th>\n",
       "      <td>2019-04-01</td>\n",
       "      <td>1900-01-01 08:55:00</td>\n",
       "      <td>8</td>\n",
       "      <td>55</td>\n",
       "      <td>0.916667</td>\n",
       "      <td>8.916667</td>\n",
       "    </tr>\n",
       "  </tbody>\n",
       "</table>\n",
       "</div>"
      ],
      "text/plain": [
       "        date                time  hour  minute  minute_hour  total_time\n",
       "0 2019-04-01 1900-01-01 08:56:00     8      56     0.933333    8.933333\n",
       "1 2019-04-01 1900-01-01 08:40:00     8      40     0.666667    8.666667\n",
       "2 2019-04-01 1900-01-01 08:45:00     8      45     0.750000    8.750000\n",
       "3 2019-04-01 1900-01-01 08:40:00     8      40     0.666667    8.666667\n",
       "4 2019-04-01 1900-01-01 08:55:00     8      55     0.916667    8.916667"
      ]
     },
     "execution_count": 9,
     "metadata": {},
     "output_type": "execute_result"
    }
   ],
   "source": [
    "attendance_data[\"hour\"] = attendance_data[\"time\"].dt.hour\n",
    "attendance_data[\"minute\"] = attendance_data[\"time\"].dt.minute\n",
    "attendance_data[\"minute_hour\"] = attendance_data[\"minute\"] / 60\n",
    "attendance_data[\"total_time\"] = attendance_data[\"hour\"] + attendance_data[\"minute_hour\"]\n",
    "attendance_data.head()"
   ]
  },
  {
   "cell_type": "markdown",
   "metadata": {},
   "source": [
    "Visualize when students are coming to class"
   ]
  },
  {
   "cell_type": "code",
   "execution_count": 18,
   "metadata": {},
   "outputs": [
    {
     "data": {
      "text/plain": [
       "(array([ 1.,  0.,  4.,  0.,  7., 10.,  9.,  7., 12.,  8., 44., 11., 23.,\n",
       "         0.,  0.,  0.,  0.,  0.,  0.,  0.,  0.,  0.,  0.,  0.,  0.,  0.,\n",
       "         0.,  0.,  0.,  1.]),\n",
       " array([ 7.5       ,  7.61666667,  7.73333333,  7.85      ,  7.96666667,\n",
       "         8.08333333,  8.2       ,  8.31666667,  8.43333333,  8.55      ,\n",
       "         8.66666667,  8.78333333,  8.9       ,  9.01666667,  9.13333333,\n",
       "         9.25      ,  9.36666667,  9.48333333,  9.6       ,  9.71666667,\n",
       "         9.83333333,  9.95      , 10.06666667, 10.18333333, 10.3       ,\n",
       "        10.41666667, 10.53333333, 10.65      , 10.76666667, 10.88333333,\n",
       "        11.        ]),\n",
       " <a list of 30 Patch objects>)"
      ]
     },
     "execution_count": 18,
     "metadata": {},
     "output_type": "execute_result"
    },
    {
     "data": {
      "image/png": "[encoded data removed]",
      "text/plain": [
       "<Figure size 432x288 with 1 Axes>"
      ]
     },
     "metadata": {
      "needs_background": "light"
     },
     "output_type": "display_data"
    }
   ],
   "source": [
    "plt.hist(attendance_data[\"total_time\"], bins=30)"
   ]
  },
  {
   "cell_type": "markdown",
   "metadata": {},
   "source": [
    "Historically, most people show up before 9am. A lot of people tend to come just after 8:30am."
   ]
  },
  {
   "cell_type": "code",
   "execution_count": null,
   "metadata": {},
   "outputs": [],
   "source": []
  }
 ],
 "metadata": {
  "kernelspec": {
   "display_name": "Python 3",
   "language": "python",
   "name": "python3"
  },
  "language_info": {
   "codemirror_mode": {
    "name": "ipython",
    "version": 3
   },
   "file_extension": ".py",
   "mimetype": "text/x-python",
   "name": "python",
   "nbconvert_exporter": "python",
   "pygments_lexer": "ipython3",
   "version": "3.6.6"
  }
 },
 "nbformat": 4,
 "nbformat_minor": 2
}
